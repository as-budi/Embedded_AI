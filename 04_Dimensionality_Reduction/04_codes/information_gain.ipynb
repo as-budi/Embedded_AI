{
 "cells": [
  {
   "cell_type": "code",
   "execution_count": 8,
   "metadata": {},
   "outputs": [
    {
     "name": "stdout",
     "output_type": "stream",
     "text": [
      "Information Gain untuk setiap fitur:\n",
      "X1: 0.0200\n",
      "X2: 0.9710\n",
      "\n",
      "Fitur terbaik berdasarkan Information Gain: X2\n"
     ]
    }
   ],
   "source": [
    "import math\n",
    "\n",
    "# Dataset\n",
    "data = [\n",
    "    [0, 1, \"A\"],\n",
    "    [1, 1, \"A\"],\n",
    "    [0, 0, \"B\"],\n",
    "    [1, 0, \"B\"],\n",
    "    [0, 1, \"A\"]\n",
    "]\n",
    "\n",
    "# data = [\n",
    "#     [1, 1, 1, \"A\"],\n",
    "#     [1, 1, 0, \"A\"],\n",
    "#     [1, 0, 1, \"A\"],\n",
    "#     [1, 0, 0, \"B\"],\n",
    "#     [0, 1, 1, \"A\"],\n",
    "#     [0, 1, 0, \"A\"],\n",
    "#     [0, 0, 1, \"B\"],\n",
    "#     [0, 0, 0, \"B\"]\n",
    "# ]\n",
    "\n",
    "# Fungsi untuk menghitung entropi\n",
    "def entropy(data):\n",
    "    label_counts = {}\n",
    "    total = len(data)\n",
    "\n",
    "    for row in data:\n",
    "        label = row[-1]\n",
    "        if label not in label_counts:\n",
    "            label_counts[label] = 0\n",
    "        label_counts[label] += 1\n",
    "\n",
    "    ent = 0\n",
    "    for count in label_counts.values():\n",
    "        p = count / total\n",
    "        ent -= p * math.log2(p)\n",
    "    \n",
    "    return ent\n",
    "\n",
    "# Fungsi untuk menghitung Information Gain dari suatu fitur\n",
    "def information_gain(data, feature_index):\n",
    "    total_entropy = entropy(data)\n",
    "    unique_values = set(row[feature_index] for row in data)\n",
    "    weighted_entropy = 0\n",
    "\n",
    "    for value in unique_values:\n",
    "        subset = [row for row in data if row[feature_index] == value]\n",
    "        p = len(subset) / len(data)\n",
    "        weighted_entropy += p * entropy(subset)\n",
    "    \n",
    "    return total_entropy - weighted_entropy\n",
    "\n",
    "# Hitung Information Gain untuk setiap fitur\n",
    "num_features = len(data[0]) - 1  # Semua kecuali label\n",
    "ig_values = {f\"X{i+1}\": information_gain(data, i) for i in range(num_features)}\n",
    "\n",
    "# Cetak hasil\n",
    "print(\"Information Gain untuk setiap fitur:\")\n",
    "for feature, ig in ig_values.items():\n",
    "    print(f\"{feature}: {ig:.4f}\")\n",
    "\n",
    "# Pilih fitur dengan Information Gain tertinggi\n",
    "best_feature = max(ig_values, key=ig_values.get)\n",
    "print(f\"\\nFitur terbaik berdasarkan Information Gain: {best_feature}\")"
   ]
  }
 ],
 "metadata": {
  "kernelspec": {
   "display_name": "base",
   "language": "python",
   "name": "python3"
  },
  "language_info": {
   "codemirror_mode": {
    "name": "ipython",
    "version": 3
   },
   "file_extension": ".py",
   "mimetype": "text/x-python",
   "name": "python",
   "nbconvert_exporter": "python",
   "pygments_lexer": "ipython3",
   "version": "3.11.8"
  }
 },
 "nbformat": 4,
 "nbformat_minor": 2
}
