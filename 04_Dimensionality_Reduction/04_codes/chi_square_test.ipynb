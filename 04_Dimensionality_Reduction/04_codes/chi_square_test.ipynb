{
 "cells": [
  {
   "cell_type": "code",
   "execution_count": 1,
   "metadata": {},
   "outputs": [
    {
     "name": "stdout",
     "output_type": "stream",
     "text": [
      "Chi-Square Test untuk setiap fitur:\n",
      "X1: 0.1389\n",
      "X2: 2.6000\n",
      "\n",
      "Fitur terbaik berdasarkan Chi-Square Test: X2\n"
     ]
    }
   ],
   "source": [
    "import math\n",
    "\n",
    "# Dataset\n",
    "data = [\n",
    "    [0, 1, \"A\"],\n",
    "    [1, 1, \"A\"],\n",
    "    [0, 0, \"B\"],\n",
    "    [1, 0, \"B\"],\n",
    "    [0, 1, \"A\"]\n",
    "]\n",
    "\n",
    "# Fungsi untuk membuat tabel kontingensi\n",
    "def contingency_table(data, feature_index):\n",
    "    table = {}  # Menyimpan jumlah kemunculan\n",
    "    total_per_class = {}\n",
    "    total_per_feature = {}\n",
    "    \n",
    "    for row in data:\n",
    "        feature_value = row[feature_index]\n",
    "        label = row[-1]\n",
    "\n",
    "        # Tambahkan jumlah total tiap kelas (label)\n",
    "        if label not in total_per_class:\n",
    "            total_per_class[label] = 0\n",
    "        total_per_class[label] += 1\n",
    "\n",
    "        # Tambahkan jumlah total tiap nilai fitur\n",
    "        if feature_value not in total_per_feature:\n",
    "            total_per_feature[feature_value] = 0\n",
    "        total_per_feature[feature_value] += 1\n",
    "\n",
    "        # Tambahkan nilai ke tabel kontingensi\n",
    "        if (feature_value, label) not in table:\n",
    "            table[(feature_value, label)] = 0\n",
    "        table[(feature_value, label)] += 1\n",
    "\n",
    "    return table, total_per_class, total_per_feature, len(data)\n",
    "\n",
    "# Fungsi untuk menghitung Chi-Square\n",
    "def chi_square_test(data, feature_index):\n",
    "    table, total_per_class, total_per_feature, total_data = contingency_table(data, feature_index)\n",
    "    \n",
    "    chi_square = 0\n",
    "    for (feature_value, label), observed in table.items():\n",
    "        expected = (total_per_feature[feature_value] * total_per_class[label]) / total_data\n",
    "        chi_square += (observed - expected) ** 2 / expected\n",
    "\n",
    "    return chi_square\n",
    "\n",
    "# Hitung Chi-Square untuk setiap fitur\n",
    "num_features = len(data[0]) - 1  # Semua kecuali label\n",
    "chi_square_values = {f\"X{i+1}\": chi_square_test(data, i) for i in range(num_features)}\n",
    "\n",
    "# Cetak hasil\n",
    "print(\"Chi-Square Test untuk setiap fitur:\")\n",
    "for feature, chi in chi_square_values.items():\n",
    "    print(f\"{feature}: {chi:.4f}\")\n",
    "\n",
    "# Pilih fitur dengan nilai Chi-Square terbesar\n",
    "best_feature = max(chi_square_values, key=chi_square_values.get)\n",
    "print(f\"\\nFitur terbaik berdasarkan Chi-Square Test: {best_feature}\")"
   ]
  }
 ],
 "metadata": {
  "kernelspec": {
   "display_name": "base",
   "language": "python",
   "name": "python3"
  },
  "language_info": {
   "codemirror_mode": {
    "name": "ipython",
    "version": 3
   },
   "file_extension": ".py",
   "mimetype": "text/x-python",
   "name": "python",
   "nbconvert_exporter": "python",
   "pygments_lexer": "ipython3",
   "version": "3.11.8"
  }
 },
 "nbformat": 4,
 "nbformat_minor": 2
}
