{
 "cells": [
  {
   "cell_type": "markdown",
   "metadata": {},
   "source": [
    "## 1. Latih model dasar (baseline model)"
   ]
  },
  {
   "cell_type": "code",
   "execution_count": 7,
   "metadata": {},
   "outputs": [
    {
     "name": "stdout",
     "output_type": "stream",
     "text": [
      "Epoch 1/2\n",
      "1688/1688 [==============================] - 2s 1ms/step - loss: 0.2737 - accuracy: 0.9206 - val_loss: 0.1410 - val_accuracy: 0.9577\n",
      "Epoch 2/2\n",
      "1688/1688 [==============================] - 2s 982us/step - loss: 0.1224 - accuracy: 0.9637 - val_loss: 0.0975 - val_accuracy: 0.9720\n",
      "313/313 [==============================] - 0s 539us/step - loss: 0.1032 - accuracy: 0.9692\n",
      "\n",
      "Akurasi pada data uji: 0.9692\n"
     ]
    }
   ],
   "source": [
    "import tensorflow as tf\n",
    "from tensorflow.keras.models import Sequential\n",
    "from tensorflow.keras.layers import Dense, Flatten\n",
    "from tensorflow.keras.datasets import mnist\n",
    "from tensorflow.keras.utils import to_categorical\n",
    "\n",
    "# Load data\n",
    "(x_train, y_train), (x_test, y_test) = mnist.load_data()\n",
    "x_train, x_test = x_train / 255.0, x_test / 255.0\n",
    "y_train, y_test = to_categorical(y_train), to_categorical(y_test)\n",
    "\n",
    "# Baseline model\n",
    "model = Sequential([\n",
    "    Flatten(input_shape=(28, 28)),\n",
    "    Dense(128, activation='relu'),\n",
    "    Dense(10, activation='softmax')\n",
    "])\n",
    "\n",
    "model.compile(optimizer='adam',\n",
    "              loss='categorical_crossentropy',\n",
    "              metrics=['accuracy'])\n",
    "\n",
    "model.fit(x_train, y_train, epochs=2, validation_split=0.1)\n",
    "loss, accuracy = model.evaluate(x_test, y_test)\n",
    "print(f\"\\nAkurasi pada data uji: {accuracy:.4f}\")\n"
   ]
  },
  {
   "cell_type": "markdown",
   "metadata": {},
   "source": [
    "## 2. Pruning model menggunakan TensorFlow Model Optimization Toolkit"
   ]
  },
  {
   "cell_type": "code",
   "execution_count": 8,
   "metadata": {},
   "outputs": [
    {
     "name": "stdout",
     "output_type": "stream",
     "text": [
      "Epoch 1/2\n",
      "422/422 [==============================] - 2s 2ms/step - loss: 0.0778 - accuracy: 0.9777 - val_loss: 0.0825 - val_accuracy: 0.9778\n",
      "Epoch 2/2\n",
      "422/422 [==============================] - 1s 2ms/step - loss: 0.0648 - accuracy: 0.9822 - val_loss: 0.0741 - val_accuracy: 0.9792\n",
      "313/313 [==============================] - 0s 699us/step - loss: 0.0805 - accuracy: 0.9760\n",
      "\n",
      "Akurasi pada data uji: 0.9760\n"
     ]
    }
   ],
   "source": [
    "import tensorflow_model_optimization as tfmot\n",
    "\n",
    "# Define pruning schedule\n",
    "pruning_params = {\n",
    "    'pruning_schedule': tfmot.sparsity.keras.PolynomialDecay(\n",
    "        initial_sparsity=0.0,\n",
    "        final_sparsity=0.5,\n",
    "        begin_step=0,\n",
    "        end_step=len(x_train) // 128 * 2  # 2 epochs\n",
    "    )\n",
    "}\n",
    "\n",
    "# Apply pruning\n",
    "pruned_model = tfmot.sparsity.keras.prune_low_magnitude(model, **pruning_params)\n",
    "\n",
    "# Re-compile and train\n",
    "pruned_model.compile(optimizer='adam',\n",
    "                     loss='categorical_crossentropy',\n",
    "                     metrics=['accuracy'])\n",
    "\n",
    "pruned_model.fit(x_train, y_train,\n",
    "                 epochs=2,\n",
    "                 batch_size=128,\n",
    "                 validation_split=0.1,\n",
    "                 callbacks=[tfmot.sparsity.keras.UpdatePruningStep()])\n",
    "loss, accuracy = pruned_model.evaluate(x_test, y_test)\n",
    "print(f\"\\nAkurasi pada data uji: {accuracy:.4f}\")"
   ]
  },
  {
   "cell_type": "markdown",
   "metadata": {},
   "source": [
    "## 3. Post-Training Quantization (PTQ)"
   ]
  },
  {
   "cell_type": "code",
   "execution_count": 9,
   "metadata": {},
   "outputs": [
    {
     "name": "stdout",
     "output_type": "stream",
     "text": [
      "INFO:tensorflow:Assets written to: /var/folders/qg/vb_4ypx91kvfzw2t50q5sb9h0000gn/T/tmppfn3v4v2/assets\n"
     ]
    },
    {
     "name": "stderr",
     "output_type": "stream",
     "text": [
      "INFO:tensorflow:Assets written to: /var/folders/qg/vb_4ypx91kvfzw2t50q5sb9h0000gn/T/tmppfn3v4v2/assets\n",
      "2025-04-22 08:45:04.264043: W tensorflow/compiler/mlir/lite/python/tf_tfl_flatbuffer_helpers.cc:364] Ignored output_format.\n",
      "2025-04-22 08:45:04.264288: W tensorflow/compiler/mlir/lite/python/tf_tfl_flatbuffer_helpers.cc:367] Ignored drop_control_dependency.\n",
      "2025-04-22 08:45:04.265287: I tensorflow/cc/saved_model/reader.cc:45] Reading SavedModel from: /var/folders/qg/vb_4ypx91kvfzw2t50q5sb9h0000gn/T/tmppfn3v4v2\n",
      "2025-04-22 08:45:04.267000: I tensorflow/cc/saved_model/reader.cc:91] Reading meta graph with tags { serve }\n",
      "2025-04-22 08:45:04.267012: I tensorflow/cc/saved_model/reader.cc:132] Reading SavedModel debug info (if present) from: /var/folders/qg/vb_4ypx91kvfzw2t50q5sb9h0000gn/T/tmppfn3v4v2\n",
      "2025-04-22 08:45:04.276863: I tensorflow/cc/saved_model/loader.cc:231] Restoring SavedModel bundle.\n",
      "2025-04-22 08:45:04.323860: I tensorflow/cc/saved_model/loader.cc:215] Running initialization op on SavedModel bundle at path: /var/folders/qg/vb_4ypx91kvfzw2t50q5sb9h0000gn/T/tmppfn3v4v2\n",
      "2025-04-22 08:45:04.335567: I tensorflow/cc/saved_model/loader.cc:314] SavedModel load for tags { serve }; Status: success: OK. Took 70286 microseconds.\n"
     ]
    }
   ],
   "source": [
    "converter = tf.lite.TFLiteConverter.from_keras_model(pruned_model)\n",
    "converter.optimizations = [tf.lite.Optimize.DEFAULT]  # Aktivasi quantisasi\n",
    "tflite_quant_model = converter.convert()\n",
    "\n",
    "# Simpan model hasil quantization\n",
    "with open('model_pruned_quantized.tflite', 'wb') as f:\n",
    "    f.write(tflite_quant_model)\n"
   ]
  },
  {
   "cell_type": "markdown",
   "metadata": {},
   "source": [
    "## 4. Cek Ukuran Model Sebelum dan Sesudah"
   ]
  },
  {
   "cell_type": "code",
   "execution_count": 10,
   "metadata": {},
   "outputs": [
    {
     "name": "stdout",
     "output_type": "stream",
     "text": [
      "Original Model Size (MB): 1.24836\n",
      "Pruned + Quantized Model Size (MB): 0.81834\n"
     ]
    },
    {
     "name": "stderr",
     "output_type": "stream",
     "text": [
      "/Users/agungsetiabudi/miniconda3/lib/python3.10/site-packages/keras/src/engine/training.py:3000: UserWarning: You are saving your model as an HDF5 file via `model.save()`. This file format is considered legacy. We recommend using instead the native Keras format, e.g. `model.save('my_model.keras')`.\n",
      "  saving_api.save_model(\n"
     ]
    }
   ],
   "source": [
    "import os\n",
    "\n",
    "# Save original model\n",
    "model.save('original_model.h5')\n",
    "\n",
    "# Ukuran file\n",
    "print(\"Original Model Size (MB):\", os.path.getsize(\"original_model.h5\") / 1e6)\n",
    "print(\"Pruned + Quantized Model Size (MB):\", os.path.getsize(\"model_pruned_quantized.tflite\") / 1e6)\n"
   ]
  }
 ],
 "metadata": {
  "kernelspec": {
   "display_name": "base",
   "language": "python",
   "name": "python3"
  },
  "language_info": {
   "codemirror_mode": {
    "name": "ipython",
    "version": 3
   },
   "file_extension": ".py",
   "mimetype": "text/x-python",
   "name": "python",
   "nbconvert_exporter": "python",
   "pygments_lexer": "ipython3",
   "version": "3.10.10"
  }
 },
 "nbformat": 4,
 "nbformat_minor": 2
}
