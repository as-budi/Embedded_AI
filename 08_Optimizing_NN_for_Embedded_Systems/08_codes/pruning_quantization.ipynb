{
 "cells": [
  {
   "cell_type": "markdown",
   "metadata": {},
   "source": [
    "## 1. Latih model dasar (baseline model)"
   ]
  },
  {
   "cell_type": "code",
   "execution_count": 1,
   "metadata": {},
   "outputs": [
    {
     "name": "stdout",
     "output_type": "stream",
     "text": [
      "Epoch 1/2\n",
      "1688/1688 [==============================] - 3s 1ms/step - loss: 0.2717 - accuracy: 0.9233 - val_loss: 0.1233 - val_accuracy: 0.9660\n",
      "Epoch 2/2\n",
      "1688/1688 [==============================] - 2s 1ms/step - loss: 0.1189 - accuracy: 0.9647 - val_loss: 0.0994 - val_accuracy: 0.9717\n",
      "313/313 [==============================] - 0s 816us/step - loss: 0.1081 - accuracy: 0.9681\n",
      "\n",
      "Akurasi pada data uji: 0.9681\n"
     ]
    }
   ],
   "source": [
    "import tensorflow as tf\n",
    "from tensorflow.keras.models import Sequential\n",
    "from tensorflow.keras.layers import Dense, Flatten\n",
    "from tensorflow.keras.datasets import mnist\n",
    "from tensorflow.keras.utils import to_categorical\n",
    "\n",
    "# Load data\n",
    "(x_train, y_train), (x_test, y_test) = mnist.load_data()\n",
    "x_train, x_test = x_train / 255.0, x_test / 255.0\n",
    "y_train, y_test = to_categorical(y_train), to_categorical(y_test)\n",
    "\n",
    "# Baseline model\n",
    "model = Sequential([\n",
    "    Flatten(input_shape=(28, 28)),\n",
    "    Dense(128, activation='relu'),\n",
    "    Dense(10, activation='softmax')\n",
    "])\n",
    "\n",
    "model.compile(optimizer='adam',\n",
    "              loss='categorical_crossentropy',\n",
    "              metrics=['accuracy'])\n",
    "\n",
    "model.fit(x_train, y_train, epochs=2, validation_split=0.1)\n",
    "loss, accuracy = model.evaluate(x_test, y_test)\n",
    "print(f\"\\nAkurasi pada data uji: {accuracy:.4f}\")\n"
   ]
  },
  {
   "cell_type": "markdown",
   "metadata": {},
   "source": [
    "## 2. Pruning model menggunakan TensorFlow Model Optimization Toolkit"
   ]
  },
  {
   "cell_type": "code",
   "execution_count": 2,
   "metadata": {},
   "outputs": [
    {
     "name": "stdout",
     "output_type": "stream",
     "text": [
      "Epoch 1/2\n",
      "422/422 [==============================] - 2s 2ms/step - loss: 0.0754 - accuracy: 0.9776 - val_loss: 0.0813 - val_accuracy: 0.9757\n",
      "Epoch 2/2\n",
      "422/422 [==============================] - 1s 2ms/step - loss: 0.0616 - accuracy: 0.9828 - val_loss: 0.0749 - val_accuracy: 0.9780\n",
      "313/313 [==============================] - 0s 949us/step - loss: 0.0778 - accuracy: 0.9762\n",
      "\n",
      "Akurasi pada data uji: 0.9762\n"
     ]
    }
   ],
   "source": [
    "import tensorflow_model_optimization as tfmot\n",
    "\n",
    "# Define pruning schedule\n",
    "pruning_params = {\n",
    "    'pruning_schedule': tfmot.sparsity.keras.PolynomialDecay(\n",
    "        initial_sparsity=0.0,\n",
    "        final_sparsity=0.5,\n",
    "        begin_step=0,\n",
    "        end_step=len(x_train) // 128 * 2  # 2 epochs\n",
    "    )\n",
    "}\n",
    "\n",
    "# Apply pruning\n",
    "pruned_model = tfmot.sparsity.keras.prune_low_magnitude(model, **pruning_params)\n",
    "\n",
    "# Re-compile and train\n",
    "pruned_model.compile(optimizer='adam',\n",
    "                     loss='categorical_crossentropy',\n",
    "                     metrics=['accuracy'])\n",
    "\n",
    "pruned_model.fit(x_train, y_train,\n",
    "                 epochs=2,\n",
    "                 batch_size=128,\n",
    "                 validation_split=0.1,\n",
    "                 callbacks=[tfmot.sparsity.keras.UpdatePruningStep()])\n",
    "loss, accuracy = pruned_model.evaluate(x_test, y_test)\n",
    "print(f\"\\nAkurasi pada data uji: {accuracy:.4f}\")"
   ]
  },
  {
   "cell_type": "markdown",
   "metadata": {},
   "source": [
    "## 3. Post-Training Quantization (PTQ)"
   ]
  },
  {
   "cell_type": "code",
   "execution_count": 3,
   "metadata": {},
   "outputs": [
    {
     "name": "stdout",
     "output_type": "stream",
     "text": [
      "INFO:tensorflow:Assets written to: C:\\Users\\agung\\AppData\\Local\\Temp\\tmph5car9qt\\assets\n"
     ]
    },
    {
     "name": "stderr",
     "output_type": "stream",
     "text": [
      "INFO:tensorflow:Assets written to: C:\\Users\\agung\\AppData\\Local\\Temp\\tmph5car9qt\\assets\n"
     ]
    }
   ],
   "source": [
    "converter = tf.lite.TFLiteConverter.from_keras_model(pruned_model)\n",
    "converter.optimizations = [tf.lite.Optimize.DEFAULT]  # Aktivasi quantisasi\n",
    "tflite_quant_model = converter.convert()\n",
    "\n",
    "# Simpan model hasil quantization\n",
    "with open('model_pruned_quantized.tflite', 'wb') as f:\n",
    "    f.write(tflite_quant_model)\n"
   ]
  },
  {
   "cell_type": "markdown",
   "metadata": {},
   "source": [
    "## 4. Cek Ukuran Model Sebelum dan Sesudah"
   ]
  },
  {
   "cell_type": "code",
   "execution_count": 4,
   "metadata": {},
   "outputs": [
    {
     "name": "stdout",
     "output_type": "stream",
     "text": [
      "Original Model Size (MB): 1.247056\n",
      "Pruned + Quantized Model Size (MB): 0.818276\n"
     ]
    },
    {
     "name": "stderr",
     "output_type": "stream",
     "text": [
      "c:\\Users\\agung\\miniconda3\\envs\\embedded_ai\\lib\\site-packages\\keras\\src\\engine\\training.py:3000: UserWarning: You are saving your model as an HDF5 file via `model.save()`. This file format is considered legacy. We recommend using instead the native Keras format, e.g. `model.save('my_model.keras')`.\n",
      "  saving_api.save_model(\n"
     ]
    }
   ],
   "source": [
    "import os\n",
    "\n",
    "# Save original model\n",
    "model.save('original_model.h5')\n",
    "\n",
    "# Ukuran file\n",
    "print(\"Original Model Size (MB):\", os.path.getsize(\"original_model.h5\") / 1e6)\n",
    "print(\"Pruned + Quantized Model Size (MB):\", os.path.getsize(\"model_pruned_quantized.tflite\") / 1e6)\n"
   ]
  }
 ],
 "metadata": {
  "kernelspec": {
   "display_name": "embedded_ai",
   "language": "python",
   "name": "python3"
  },
  "language_info": {
   "codemirror_mode": {
    "name": "ipython",
    "version": 3
   },
   "file_extension": ".py",
   "mimetype": "text/x-python",
   "name": "python",
   "nbconvert_exporter": "python",
   "pygments_lexer": "ipython3",
   "version": "3.10.17"
  }
 },
 "nbformat": 4,
 "nbformat_minor": 2
}
